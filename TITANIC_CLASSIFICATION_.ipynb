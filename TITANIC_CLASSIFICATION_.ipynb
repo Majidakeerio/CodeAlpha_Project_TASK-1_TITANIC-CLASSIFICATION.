{
  "nbformat": 4,
  "nbformat_minor": 0,
  "metadata": {
    "colab": {
      "provenance": []
    },
    "kernelspec": {
      "name": "python3",
      "display_name": "Python 3"
    },
    "language_info": {
      "name": "python"
    }
  },
  "cells": [
    {
      "cell_type": "markdown",
      "source": [
        "# **Data Preprocessing**"
      ],
      "metadata": {
        "id": "W96gGoo8Vbry"
      }
    },
    {
      "cell_type": "code",
      "source": [
        "import pandas as pd\n",
        "import numpy as np\n",
        "\n",
        "\n",
        "#Load the datasets\n",
        "train_data = pd.read_csv('train.csv')\n",
        "test_data = pd.read_csv('test.csv')\n",
        "\n",
        "#Display the first few rows of the traning data\n",
        "print(train_data.head())"
      ],
      "metadata": {
        "colab": {
          "base_uri": "https://localhost:8080/"
        },
        "id": "BjVyb30xVoYA",
        "outputId": "9ad8b64c-ce5a-46cc-996b-eb322fd0f6b5"
      },
      "execution_count": 27,
      "outputs": [
        {
          "output_type": "stream",
          "name": "stdout",
          "text": [
            "   PassengerId  Survived  Pclass  \\\n",
            "0            1         0       3   \n",
            "1            2         1       1   \n",
            "2            3         1       3   \n",
            "3            4         1       1   \n",
            "4            5         0       3   \n",
            "\n",
            "                                                Name     Sex   Age  SibSp  \\\n",
            "0                            Braund, Mr. Owen Harris    male  22.0      1   \n",
            "1  Cumings, Mrs. John Bradley (Florence Briggs Th...  female  38.0      1   \n",
            "2                             Heikkinen, Miss. Laina  female  26.0      0   \n",
            "3       Futrelle, Mrs. Jacques Heath (Lily May Peel)  female  35.0      1   \n",
            "4                           Allen, Mr. William Henry    male  35.0      0   \n",
            "\n",
            "   Parch            Ticket     Fare Cabin Embarked  \n",
            "0      0         A/5 21171   7.2500   NaN        S  \n",
            "1      0          PC 17599  71.2833   C85        C  \n",
            "2      0  STON/O2. 3101282   7.9250   NaN        S  \n",
            "3      0            113803  53.1000  C123        S  \n",
            "4      0            373450   8.0500   NaN        S  \n"
          ]
        }
      ]
    },
    {
      "cell_type": "markdown",
      "source": [
        "# **Handle Missing Values**"
      ],
      "metadata": {
        "id": "LgtJG-JFXPFF"
      }
    },
    {
      "cell_type": "code",
      "source": [
        "# Fill missing values in \"Age\" with the median\n",
        "train_data['Age'].fillna(train_data['Age'].median(), inplace=True)\n",
        "test_data['Age'].fillna(test_data['Age'].median(), inplace=True)\n",
        "\n",
        "#Fill missing values in \"Embarked\" with the most common value\n",
        "train_data['Embarked'].fillna(train_data['Embarked'].mode()[0], inplace=True)\n",
        "test_data['Embarked'].fillna(test_data['Embarked'].mode()[0], inplace=True)\n",
        "\n",
        "#Fill missing values in \"Fare\" in the test set with the median\n",
        "test_data['Fare'].fillna(test_data['Fare'].median(), inplace=True)\n",
        "\n",
        "#Drop \"Cabin\" column as it has too many missing values\n",
        "train_data.drop('Cabin', axis=1, inplace=True)\n",
        "test_data.drop('Cabin', axis=1, inplace=True)"
      ],
      "metadata": {
        "id": "iYfLeEKHgw7Y"
      },
      "execution_count": 28,
      "outputs": []
    },
    {
      "cell_type": "code",
      "source": [
        "# Check if there are my remaining missing values\n",
        "print(train_data.isnull().sum())\n",
        "print(test_data.isnull().sum())"
      ],
      "metadata": {
        "colab": {
          "base_uri": "https://localhost:8080/"
        },
        "id": "2nLr3_Q7YDOM",
        "outputId": "33eba04c-bbb5-46a2-f2f2-2c61ec572751"
      },
      "execution_count": 16,
      "outputs": [
        {
          "output_type": "stream",
          "name": "stdout",
          "text": [
            "PassengerId    0\n",
            "Survived       0\n",
            "Pclass         0\n",
            "Name           0\n",
            "Sex            0\n",
            "Age            0\n",
            "SibSp          0\n",
            "Parch          0\n",
            "Ticket         0\n",
            "Fare           0\n",
            "Embarked       0\n",
            "dtype: int64\n",
            "PassengerId    0\n",
            "Pclass         0\n",
            "Name           0\n",
            "Sex            0\n",
            "Age            0\n",
            "SibSp          0\n",
            "Parch          0\n",
            "Ticket         0\n",
            "Fare           0\n",
            "Embarked       0\n",
            "dtype: int64\n"
          ]
        }
      ]
    },
    {
      "cell_type": "markdown",
      "source": [
        "# **Convert categorical variables to numerical using one_hot encoding**"
      ],
      "metadata": {
        "id": "_YinYMS8YQcY"
      }
    },
    {
      "cell_type": "code",
      "source": [
        "#Convert categorical variables to dummy variables\n",
        "train_data = pd.get_dummies(train_data, columns=['Sex', 'Embarked'])\n",
        "test_data = pd.get_dummies(test_data, columns=['Sex', 'Embarked'])\n",
        "\n",
        "#Align the test data with the traning data\n",
        "test_data = test_data.reindex(columns=train_data.columns, fill_value=0)\n",
        "\n",
        "#Drop the \"Survived\" column from the test data\n",
        "test_data.drop('Survived', axis=1, inplace=True)"
      ],
      "metadata": {
        "id": "anv5jcq4YOE-"
      },
      "execution_count": 17,
      "outputs": []
    },
    {
      "cell_type": "markdown",
      "source": [
        "# **Feature Engineering**\n",
        "# Define the features and target variables for the model"
      ],
      "metadata": {
        "id": "e7EB56g9Y4aQ"
      }
    },
    {
      "cell_type": "code",
      "source": [
        "# Define features and target variable\n",
        "X = train_data.drop(columns=['PassengerId', 'Name', 'Ticket', 'Survived'])\n",
        "y = train_data['Survived']\n",
        "\n",
        "# Define test features\n",
        "X_test = test_data.drop(columns=['PassengerId', 'Name', 'Ticket'])"
      ],
      "metadata": {
        "id": "YvjemLpFZlQi"
      },
      "execution_count": 18,
      "outputs": []
    },
    {
      "cell_type": "markdown",
      "source": [
        "# **Exploratory Data Analysis (EDA)**\n",
        "\n",
        "Understand the relationship between features and survival"
      ],
      "metadata": {
        "id": "m4ZAuNJPbGCm"
      }
    },
    {
      "cell_type": "code",
      "source": [
        "import seaborn as sns\n",
        "import matplotlib.pyplot as plt\n",
        "\n",
        "#Visualize survival rate by class\n",
        "sns.barplot(x='Pclass', y='Survived', data=train_data)\n",
        "plt.title('Survival Rate by class')\n",
        "plt.show()"
      ],
      "metadata": {
        "colab": {
          "base_uri": "https://localhost:8080/",
          "height": 472
        },
        "id": "d-jnRXHxa0AN",
        "outputId": "fdf20b1a-e08a-44de-d300-4f662e122c81"
      },
      "execution_count": 19,
      "outputs": [
        {
          "output_type": "display_data",
          "data": {
            "text/plain": [
              "<Figure size 640x480 with 1 Axes>"
            ],
            "image/png": "[encoded data removed]"
          },
          "metadata": {}
        }
      ]
    },
    {
      "cell_type": "code",
      "source": [
        "# Visulize survival rate by gender\n",
        "sns.barplot(x='Sex_male', y='Survived', data=train_data)\n",
        "plt.title('Survival Rate by Gender')\n",
        "plt.show()"
      ],
      "metadata": {
        "colab": {
          "base_uri": "https://localhost:8080/",
          "height": 472
        },
        "id": "Zv62WTHScKUe",
        "outputId": "d0490d8f-afbc-4256-e63c-c849939842fe"
      },
      "execution_count": 20,
      "outputs": [
        {
          "output_type": "display_data",
          "data": {
            "text/plain": [
              "<Figure size 640x480 with 1 Axes>"
            ],
            "image/png": "[encoded data removed]"
          },
          "metadata": {}
        }
      ]
    },
    {
      "cell_type": "code",
      "source": [
        "# Visualize survival rate by age\n",
        "sns.histplot(train_data['Age'][train_data['Survived']==1], kde=False, label='Survived')\n",
        "sns.histplot(train_data['Age'][train_data['Survived']==0], kde=False, label='Not Survived')\n",
        "plt.title('Survival Rate by Age')\n",
        "plt.legend()\n",
        "plt.show()"
      ],
      "metadata": {
        "colab": {
          "base_uri": "https://localhost:8080/",
          "height": 472
        },
        "id": "mpFCWtpncoXB",
        "outputId": "958d7601-0f58-4ff5-82a4-a8ee6dfcd9d1"
      },
      "execution_count": 21,
      "outputs": [
        {
          "output_type": "display_data",
          "data": {
            "text/plain": [
              "<Figure size 640x480 with 1 Axes>"
            ],
            "image/png": "[encoded data removed]"
          },
          "metadata": {}
        }
      ]
    },
    {
      "cell_type": "markdown",
      "source": [
        "# **Model Traning and Evaluation**\n",
        "Train multiple models and evaluate their performance"
      ],
      "metadata": {
        "id": "oqGUIL7EdUxD"
      }
    },
    {
      "cell_type": "code",
      "source": [
        "from sklearn.model_selection import train_test_split\n",
        "from sklearn.preprocessing import StandardScaler\n",
        "from sklearn.linear_model import LogisticRegression\n",
        "from sklearn.tree import DecisionTreeClassifier\n",
        "from sklearn.ensemble import RandomForestClassifier, GradientBoostingClassifier\n",
        "from sklearn.metrics import accuracy_score, precision_score, recall_score, f1_score\n",
        "\n",
        "# Split the training data into training and validation sets\n",
        "X_train, X_val, y_train, y_val = train_test_split(X, y, test_size=0.2, random_state=42)\n",
        "\n",
        "# Standardize the features\n",
        "scaler = StandardScaler()\n",
        "X_train = scaler.fit_transform(X_train)\n",
        "X_val = scaler.transform(X_val)\n",
        "X_test = scaler.transform(X_test)"
      ],
      "metadata": {
        "id": "TU_efDVAd8WH"
      },
      "execution_count": 22,
      "outputs": []
    },
    {
      "cell_type": "code",
      "source": [
        "# Train and evaluate models\n",
        "models = {\n",
        "    \"Logistic Regression\": LogisticRegression(),\n",
        "    \"Decision Tree\": DecisionTreeClassifier(),\n",
        "    \"Random Forest\": RandomForestClassifier(),\n",
        "    \"Gradient Boosting\": GradientBoostingClassifier()\n",
        "}\n",
        "\n",
        "results = {}\n",
        "\n",
        "for model_name, model in models.items():\n",
        "    model.fit(X_train, y_train)\n",
        "    y_pred = model.predict(X_val)\n",
        "    accuracy = accuracy_score(y_val, y_pred)\n",
        "    precision = precision_score(y_val, y_pred)\n",
        "    recall = recall_score(y_val, y_pred)\n",
        "    f1 = f1_score(y_val, y_pred)\n",
        "    results[model_name] = [accuracy, precision, recall, f1]\n",
        "\n",
        "# Display results\n",
        "results_df = pd.DataFrame(results, index=['Accuracy', 'Precision', 'Recall', 'F1 Score']).T\n",
        "print(results_df)"
      ],
      "metadata": {
        "colab": {
          "base_uri": "https://localhost:8080/"
        },
        "id": "wfw6HW-Pf4Rv",
        "outputId": "b5acbc93-9d3b-46c6-bc88-6e0f4366ff42"
      },
      "execution_count": 23,
      "outputs": [
        {
          "output_type": "stream",
          "name": "stdout",
          "text": [
            "                     Accuracy  Precision    Recall  F1 Score\n",
            "Logistic Regression  0.804469   0.782609  0.729730  0.755245\n",
            "Decision Tree        0.782123   0.727273  0.756757  0.741722\n",
            "Random Forest        0.821229   0.791667  0.770270  0.780822\n",
            "Gradient Boosting    0.821229   0.828125  0.716216  0.768116\n"
          ]
        }
      ]
    },
    {
      "cell_type": "markdown",
      "source": [
        "# **Making Predictions**\n",
        "Use the best model to make predictions on the test set."
      ],
      "metadata": {
        "id": "dp7ZaBfnf9FA"
      }
    },
    {
      "cell_type": "code",
      "source": [
        "# Choose the best model based on accuracy\n",
        "best_model_name = results_df['Accuracy'].idxmax()\n",
        "best_model = models[best_model_name]\n",
        "\n",
        "# Make predictions on the test set\n",
        "test_data['Survived'] = best_model.predict(X_test)"
      ],
      "metadata": {
        "id": "qbJdL1W4f-ap"
      },
      "execution_count": 24,
      "outputs": []
    },
    {
      "cell_type": "markdown",
      "source": [
        "# **Creating a Submission File**\n",
        "Create a submission file in the required format for Kaggle."
      ],
      "metadata": {
        "id": "ALuNec_OgHWE"
      }
    },
    {
      "cell_type": "code",
      "source": [
        "# Create a submission file\n",
        "submission = pd.DataFrame({\n",
        "    \"PassengerId\": test_data['PassengerId'],\n",
        "    \"Survived\": test_data['Survived']\n",
        "})\n",
        "\n",
        "# Save the submission file\n",
        "submission.to_csv('submission.csv', index=False)\n",
        "print(\"Submission file created successfully!\")"
      ],
      "metadata": {
        "colab": {
          "base_uri": "https://localhost:8080/"
        },
        "id": "xM62w0hygIV0",
        "outputId": "785cd529-0763-40db-d3dd-06c0888982e5"
      },
      "execution_count": 25,
      "outputs": [
        {
          "output_type": "stream",
          "name": "stdout",
          "text": [
            "Submission file created successfully!\n"
          ]
        }
      ]
    },
    {
      "cell_type": "code",
      "source": [],
      "metadata": {
        "id": "5UONS-vnglIG"
      },
      "execution_count": null,
      "outputs": []
    }
  ]
}